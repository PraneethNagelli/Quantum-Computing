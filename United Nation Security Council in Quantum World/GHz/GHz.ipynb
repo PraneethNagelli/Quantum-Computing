{
 "cells": [
  {
   "cell_type": "code",
   "execution_count": 6,
   "id": "50c8dd64-d8f2-4503-97e1-75c84cc9c37b",
   "metadata": {},
   "outputs": [
    {
     "name": "stderr",
     "output_type": "stream",
     "text": [
      "ibmqfactory.load_account:WARNING:2022-05-04 09:53:19,667: Credentials are already in use. The existing account in the session will be replaced.\n"
     ]
    }
   ],
   "source": [
    "import numpy as np\n",
    "\n",
    "# Importing standard Qiskit libraries\n",
    "from qiskit import QuantumCircuit, transpile, Aer, IBMQ,execute\n",
    "from qiskit.tools.jupyter import *\n",
    "from qiskit.visualization import *\n",
    "from ibm_quantum_widgets import *\n",
    "from qiskit.providers.aer import QasmSimulator\n",
    "\n",
    "# Loading your IBM Quantum account(s)\n",
    "provider = IBMQ.load_account()"
   ]
  },
  {
   "cell_type": "code",
   "execution_count": 20,
   "id": "5c515dda-f162-4517-a465-b4b6939721a1",
   "metadata": {},
   "outputs": [
    {
     "data": {
      "image/png": "[encoded data removed]",
      "text/plain": [
       "<Figure size 929.397x264.88 with 1 Axes>"
      ]
     },
     "execution_count": 20,
     "metadata": {},
     "output_type": "execute_result"
    }
   ],
   "source": [
    "vote = [1,0,1,1]\n",
    "qc = QuantumCircuit(3,3)\n",
    "qc.h(0)\n",
    "qc.cx(0,1)\n",
    "qc.cx(0,2)\n",
    "qc.barrier()\n",
    "if(vote[0]):\n",
    "    qc.x(1)\n",
    "if(vote[1]):\n",
    "    qc.x(1)\n",
    "    qc.x(2)\n",
    "if(vote[2]):\n",
    "    qc.z(1)\n",
    "    qc.x(1)\n",
    "    qc.x(2)\n",
    "if(vote[3]):\n",
    "    qc.z(1)\n",
    "    qc.x(1)\n",
    "qc.barrier()\n",
    "qc.cx(0,2)\n",
    "qc.cx(0,1)\n",
    "qc.h(0)\n",
    "qc.measure(range(3),range(3))\n",
    "qc.draw()"
   ]
  },
  {
   "cell_type": "code",
   "execution_count": 21,
   "id": "d61ba81d-a2fc-4229-98a0-22d37ac54674",
   "metadata": {},
   "outputs": [],
   "source": [
    "backend = Aer.get_backend('qasm_simulator')\n",
    "job_simulator = execute(qc,backend,shots=8192)"
   ]
  },
  {
   "cell_type": "code",
   "execution_count": 22,
   "id": "498f4ecf-8496-4a7e-b72a-eb87e1f57e61",
   "metadata": {},
   "outputs": [],
   "source": [
    "results = job_simulator.result()"
   ]
  },
  {
   "cell_type": "code",
   "execution_count": 23,
   "id": "1f9d652c-eb52-4ad6-b5a4-d6432640b5d7",
   "metadata": {},
   "outputs": [
    {
     "name": "stdout",
     "output_type": "stream",
     "text": [
      "{'110': 8192}\n"
     ]
    }
   ],
   "source": [
    "count = results.get_counts(qc)\n",
    "print(count)"
   ]
  },
  {
   "cell_type": "code",
   "execution_count": 24,
   "id": "ac810bd5-fa3a-4b68-9c43-82d3885bdf26",
   "metadata": {},
   "outputs": [
    {
     "name": "stdout",
     "output_type": "stream",
     "text": [
      "Vetoed\n"
     ]
    }
   ],
   "source": [
    "if '000' in count:\n",
    "    print('Inconcluive')\n",
    "else:\n",
    "    print('Vetoed')"
   ]
  },
  {
   "cell_type": "code",
   "execution_count": 18,
   "id": "5363d1de-b2ca-4af9-8886-9ca9646b1cae",
   "metadata": {},
   "outputs": [
    {
     "data": {
      "text/plain": [
       "[<IBMQSimulator('ibmq_qasm_simulator') from IBMQ(hub='ibm-q', group='open', project='main')>,\n",
       " <IBMQBackend('ibmq_armonk') from IBMQ(hub='ibm-q', group='open', project='main')>,\n",
       " <IBMQBackend('ibmq_santiago') from IBMQ(hub='ibm-q', group='open', project='main')>,\n",
       " <IBMQBackend('ibmq_bogota') from IBMQ(hub='ibm-q', group='open', project='main')>,\n",
       " <IBMQBackend('ibmq_lima') from IBMQ(hub='ibm-q', group='open', project='main')>,\n",
       " <IBMQBackend('ibmq_belem') from IBMQ(hub='ibm-q', group='open', project='main')>,\n",
       " <IBMQBackend('ibmq_quito') from IBMQ(hub='ibm-q', group='open', project='main')>,\n",
       " <IBMQSimulator('simulator_statevector') from IBMQ(hub='ibm-q', group='open', project='main')>,\n",
       " <IBMQSimulator('simulator_mps') from IBMQ(hub='ibm-q', group='open', project='main')>,\n",
       " <IBMQSimulator('simulator_extended_stabilizer') from IBMQ(hub='ibm-q', group='open', project='main')>,\n",
       " <IBMQSimulator('simulator_stabilizer') from IBMQ(hub='ibm-q', group='open', project='main')>,\n",
       " <IBMQBackend('ibmq_manila') from IBMQ(hub='ibm-q', group='open', project='main')>]"
      ]
     },
     "execution_count": 18,
     "metadata": {},
     "output_type": "execute_result"
    }
   ],
   "source": [
    "provider.backends()"
   ]
  },
  {
   "cell_type": "code",
   "execution_count": null,
   "id": "1e2651a3-e6e3-423a-8f13-54ac4cd168f6",
   "metadata": {},
   "outputs": [],
   "source": [
    "backend = provider.get_backend('ibmq_bogota')\n",
    "job_simulator = execute(qc,backend,shots=8192)\n",
    "results = job_simulator.result()\n",
    "count = results.get_counts(qc)\n",
    "print(count)"
   ]
  },
  {
   "cell_type": "code",
   "execution_count": 53,
   "id": "ea36d386-4c9f-4075-a54d-a80326d34441",
   "metadata": {},
   "outputs": [
    {
     "name": "stdout",
     "output_type": "stream",
     "text": [
      "000 0.001953125\n",
      "001 0.017578125\n",
      "010 0.005859375\n",
      "011 0.0419921875\n",
      "100 0.015625\n",
      "101 0.123046875\n",
      "110 0.060546875\n",
      "111 0.7333984375\n"
     ]
    }
   ],
   "source": [
    "for i,j in count.items():\n",
    "    print(i,j/8192)\n"
   ]
  },
  {
   "cell_type": "code",
   "execution_count": null,
   "id": "1d940f37-e0c9-4e7e-9d95-85f0988a1ae5",
   "metadata": {},
   "outputs": [],
   "source": []
  }
 ],
 "metadata": {
  "kernelspec": {
   "display_name": "Qiskit v0.35.0 (ipykernel)",
   "language": "python",
   "name": "python3"
  },
  "language_info": {
   "codemirror_mode": {
    "name": "ipython",
    "version": 3
   },
   "file_extension": ".py",
   "mimetype": "text/x-python",
   "name": "python",
   "nbconvert_exporter": "python",
   "pygments_lexer": "ipython3",
   "version": "3.8.13"
  },
  "widgets": {
   "application/vnd.jupyter.widget-state+json": {
    "state": {
     "09a6853e20854f2f99949db6d824796a": {
      "model_module": "@jupyter-widgets/controls",
      "model_module_version": "1.5.0",
      "model_name": "ButtonStyleModel",
      "state": {
       "button_color": "white"
      }
     },
     "1263de70bfbc403f83b2bbc43442b0bb": {
      "model_module": "@jupyter-widgets/controls",
      "model_module_version": "1.5.0",
      "model_name": "HTMLModel",
      "state": {
       "layout": "IPY_MODEL_5ffb134c6a6846e688867843ff49f783",
       "style": "IPY_MODEL_ec77d5c7a4194e1cbeb9ea9e15278ab5",
       "value": "job has successfully run"
      }
     },
     "15b1679c7f864aa393aad8470fb190d6": {
      "model_module": "@jupyter-widgets/controls",
      "model_module_version": "1.5.0",
      "model_name": "HTMLModel",
      "state": {
       "layout": "IPY_MODEL_92d433a1a35c449d9beec8117d37dcc6",
       "style": "IPY_MODEL_c7151c11dd2f46a1bb53aad1fb468f9b",
       "value": "<h5>Job ID</h5>"
      }
     },
     "1d4d19c7e31b459d95e66d3aeef35939": {
      "model_module": "@jupyter-widgets/base",
      "model_module_version": "1.2.0",
      "model_name": "LayoutModel",
      "state": {
       "grid_area": "right",
       "padding": "0px 0px 0px 0px",
       "width": "70px"
      }
     },
     "313e8ebb190f4030ac6c67d209ae9982": {
      "model_module": "@jupyter-widgets/controls",
      "model_module_version": "1.5.0",
      "model_name": "ButtonModel",
      "state": {
       "icon": "close",
       "layout": "IPY_MODEL_704de86a53294d5baaf2b07703fc3af0",
       "style": "IPY_MODEL_09a6853e20854f2f99949db6d824796a"
      }
     },
     "3562bc566d9a41b88003d643dd673bc1": {
      "model_module": "@jupyter-widgets/base",
      "model_module_version": "1.2.0",
      "model_name": "LayoutModel",
      "state": {
       "margin": "0px 0px 0px 37px",
       "width": "600px"
      }
     },
     "362c3bdde6544ae9adb6ad62d51aefc0": {
      "model_module": "@jupyter-widgets/controls",
      "model_module_version": "1.5.0",
      "model_name": "HBoxModel",
      "state": {
       "children": [
        "IPY_MODEL_15b1679c7f864aa393aad8470fb190d6",
        "IPY_MODEL_818c8a5a9ee34baab5e7e63192fe3490",
        "IPY_MODEL_aa3f919b160b4b1bb8da92fef83945db",
        "IPY_MODEL_a1bf4814a4af4b50a3bc9f78888a94cf",
        "IPY_MODEL_478d0741e42f4e6eae2950e8799e52cd"
       ],
       "layout": "IPY_MODEL_3562bc566d9a41b88003d643dd673bc1"
      }
     },
     "36e68b0c0d8847478f5ff1d40a4ea77b": {
      "model_module": "@jupyter-widgets/controls",
      "model_module_version": "1.5.0",
      "model_name": "HTMLModel",
      "state": {
       "layout": "IPY_MODEL_de7c726db410461f970bc238c3303f8f",
       "style": "IPY_MODEL_d4a9616b83f04a22ac860e54d767a025",
       "value": "62724de69e8c248ad8469461"
      }
     },
     "3c5d0d5468814633b9ef3bf68a5bdbe5": {
      "model_module": "@jupyter-widgets/base",
      "model_module_version": "1.2.0",
      "model_name": "LayoutModel",
      "state": {
       "margin": "0px 0px 10px 0px"
      }
     },
     "478d0741e42f4e6eae2950e8799e52cd": {
      "model_module": "@jupyter-widgets/controls",
      "model_module_version": "1.5.0",
      "model_name": "HTMLModel",
      "state": {
       "layout": "IPY_MODEL_af75df75d33043219072473776717244",
       "style": "IPY_MODEL_dd2e7fa87e3d4003b76a719300176a00",
       "value": "<h5>Message</h5>"
      }
     },
     "52426f03219542cf85460dcae8ca291d": {
      "model_module": "@jupyter-widgets/controls",
      "model_module_version": "1.5.0",
      "model_name": "DescriptionStyleModel",
      "state": {
       "description_width": ""
      }
     },
     "5b066ba6779d4433a0dd7bb4d2adea5c": {
      "model_module": "@jupyter-widgets/base",
      "model_module_version": "1.2.0",
      "model_name": "LayoutModel",
      "state": {
       "max_width": "700px",
       "min_width": "700px"
      }
     },
     "5ffb134c6a6846e688867843ff49f783": {
      "model_module": "@jupyter-widgets/base",
      "model_module_version": "1.2.0",
      "model_name": "LayoutModel",
      "state": {
       "overflow_x": "scroll"
      }
     },
     "60b2435f11384123a5c5a681251c55c4": {
      "model_module": "@jupyter-widgets/controls",
      "model_module_version": "1.5.0",
      "model_name": "HBoxModel",
      "state": {
       "children": [
        "IPY_MODEL_313e8ebb190f4030ac6c67d209ae9982",
        "IPY_MODEL_36e68b0c0d8847478f5ff1d40a4ea77b",
        "IPY_MODEL_6771ecb4d7a5491d8e1c6fff57c6262d",
        "IPY_MODEL_b767d96042c54ae48903a2490b508a07",
        "IPY_MODEL_72c5f81f9c9a40ad8672e208d04e0bd4",
        "IPY_MODEL_1263de70bfbc403f83b2bbc43442b0bb"
       ],
       "layout": "IPY_MODEL_5b066ba6779d4433a0dd7bb4d2adea5c"
      }
     },
     "6771ecb4d7a5491d8e1c6fff57c6262d": {
      "model_module": "@jupyter-widgets/controls",
      "model_module_version": "1.5.0",
      "model_name": "HTMLModel",
      "state": {
       "layout": "IPY_MODEL_9b7b5cc31c294455bd26c63e42693a84",
       "style": "IPY_MODEL_9b9d701536d541c780c1fab993f164b4",
       "value": "ibmq_bogota"
      }
     },
     "704de86a53294d5baaf2b07703fc3af0": {
      "model_module": "@jupyter-widgets/base",
      "model_module_version": "1.2.0",
      "model_name": "LayoutModel",
      "state": {
       "margin": "0px 5px 0px 0px",
       "width": "32px"
      }
     },
     "72c5f81f9c9a40ad8672e208d04e0bd4": {
      "model_module": "@jupyter-widgets/controls",
      "model_module_version": "1.5.0",
      "model_name": "HTMLModel",
      "state": {
       "layout": "IPY_MODEL_8606125afc474cd3a1a0b9226f4dc271",
       "style": "IPY_MODEL_52426f03219542cf85460dcae8ca291d",
       "value": "-"
      }
     },
     "7d165c46573846adafe995d7f9170259": {
      "model_module": "@jupyter-widgets/controls",
      "model_module_version": "1.5.0",
      "model_name": "ButtonStyleModel",
      "state": {}
     },
     "8007dc497d584758aad633ab2f569877": {
      "model_module": "@jupyter-widgets/controls",
      "model_module_version": "1.5.0",
      "model_name": "DescriptionStyleModel",
      "state": {
       "description_width": ""
      }
     },
     "818c8a5a9ee34baab5e7e63192fe3490": {
      "model_module": "@jupyter-widgets/controls",
      "model_module_version": "1.5.0",
      "model_name": "HTMLModel",
      "state": {
       "layout": "IPY_MODEL_bfd9c491f8e742edba7fa5f012f18dda",
       "style": "IPY_MODEL_f9cd6d30f3aa458da3868c689a9ddd53",
       "value": "<h5>Backend</h5>"
      }
     },
     "82de9682196a4cf7af9927a7d53b37ae": {
      "model_module": "@jupyter-widgets/controls",
      "model_module_version": "1.5.0",
      "model_name": "DescriptionStyleModel",
      "state": {
       "description_width": ""
      }
     },
     "8606125afc474cd3a1a0b9226f4dc271": {
      "model_module": "@jupyter-widgets/base",
      "model_module_version": "1.2.0",
      "model_name": "LayoutModel",
      "state": {
       "width": "70px"
      }
     },
     "92d433a1a35c449d9beec8117d37dcc6": {
      "model_module": "@jupyter-widgets/base",
      "model_module_version": "1.2.0",
      "model_name": "LayoutModel",
      "state": {
       "width": "190px"
      }
     },
     "937822e683494010baeae488f7cf3fd9": {
      "model_module": "@jupyter-widgets/controls",
      "model_module_version": "1.5.0",
      "model_name": "DescriptionStyleModel",
      "state": {
       "description_width": ""
      }
     },
     "9b7b5cc31c294455bd26c63e42693a84": {
      "model_module": "@jupyter-widgets/base",
      "model_module_version": "1.2.0",
      "model_name": "LayoutModel",
      "state": {
       "width": "145px"
      }
     },
     "9b9d701536d541c780c1fab993f164b4": {
      "model_module": "@jupyter-widgets/controls",
      "model_module_version": "1.5.0",
      "model_name": "DescriptionStyleModel",
      "state": {
       "description_width": ""
      }
     },
     "a1bf4814a4af4b50a3bc9f78888a94cf": {
      "model_module": "@jupyter-widgets/controls",
      "model_module_version": "1.5.0",
      "model_name": "HTMLModel",
      "state": {
       "layout": "IPY_MODEL_dc3d60b88bea441b81395f2408a697ea",
       "style": "IPY_MODEL_937822e683494010baeae488f7cf3fd9",
       "value": "<h5>Queue</h5>"
      }
     },
     "a2e24e8c3c2b459285252571cb7554b8": {
      "model_module": "@jupyter-widgets/controls",
      "model_module_version": "1.5.0",
      "model_name": "ButtonModel",
      "state": {
       "button_style": "primary",
       "description": "Clear",
       "layout": "IPY_MODEL_1d4d19c7e31b459d95e66d3aeef35939",
       "style": "IPY_MODEL_7d165c46573846adafe995d7f9170259"
      }
     },
     "aa3f919b160b4b1bb8da92fef83945db": {
      "model_module": "@jupyter-widgets/controls",
      "model_module_version": "1.5.0",
      "model_name": "HTMLModel",
      "state": {
       "layout": "IPY_MODEL_cc5749acde6f4bb9a8a4867730f7b9f6",
       "style": "IPY_MODEL_fc7229e0d17b41bfb6737c79e1079181",
       "value": "<h5>Status</h5>"
      }
     },
     "ab62bc3981694c969ca694f5459a218f": {
      "model_module": "@jupyter-widgets/controls",
      "model_module_version": "1.5.0",
      "model_name": "GridBoxModel",
      "state": {
       "children": [
        "IPY_MODEL_a2e24e8c3c2b459285252571cb7554b8"
       ],
       "layout": "IPY_MODEL_fa3edd1618dc405688b6c64e26dbbf2b"
      }
     },
     "af75df75d33043219072473776717244": {
      "model_module": "@jupyter-widgets/base",
      "model_module_version": "1.2.0",
      "model_name": "LayoutModel",
      "state": {}
     },
     "b767d96042c54ae48903a2490b508a07": {
      "model_module": "@jupyter-widgets/controls",
      "model_module_version": "1.5.0",
      "model_name": "HTMLModel",
      "state": {
       "layout": "IPY_MODEL_e3977340fdde4b74a1e7446ca2ca1dbb",
       "style": "IPY_MODEL_8007dc497d584758aad633ab2f569877",
       "value": "<font style='color:#34BC6E'>DONE</font>"
      }
     },
     "b93f5a33bfc84832b1bca64b73a4caf7": {
      "model_module": "@jupyter-widgets/controls",
      "model_module_version": "1.5.0",
      "model_name": "HTMLModel",
      "state": {
       "layout": "IPY_MODEL_3c5d0d5468814633b9ef3bf68a5bdbe5",
       "style": "IPY_MODEL_82de9682196a4cf7af9927a7d53b37ae",
       "value": "<p style='font-family: IBM Plex Sans, Arial, Helvetica, sans-serif; font-size: 20px; font-weight: medium;'>Circuit Properties</p>"
      }
     },
     "bfd9c491f8e742edba7fa5f012f18dda": {
      "model_module": "@jupyter-widgets/base",
      "model_module_version": "1.2.0",
      "model_name": "LayoutModel",
      "state": {
       "width": "145px"
      }
     },
     "c7151c11dd2f46a1bb53aad1fb468f9b": {
      "model_module": "@jupyter-widgets/controls",
      "model_module_version": "1.5.0",
      "model_name": "DescriptionStyleModel",
      "state": {
       "description_width": ""
      }
     },
     "cc5749acde6f4bb9a8a4867730f7b9f6": {
      "model_module": "@jupyter-widgets/base",
      "model_module_version": "1.2.0",
      "model_name": "LayoutModel",
      "state": {
       "width": "95px"
      }
     },
     "d4a9616b83f04a22ac860e54d767a025": {
      "model_module": "@jupyter-widgets/controls",
      "model_module_version": "1.5.0",
      "model_name": "DescriptionStyleModel",
      "state": {
       "description_width": ""
      }
     },
     "dc3d60b88bea441b81395f2408a697ea": {
      "model_module": "@jupyter-widgets/base",
      "model_module_version": "1.2.0",
      "model_name": "LayoutModel",
      "state": {
       "width": "70px"
      }
     },
     "dd2e7fa87e3d4003b76a719300176a00": {
      "model_module": "@jupyter-widgets/controls",
      "model_module_version": "1.5.0",
      "model_name": "DescriptionStyleModel",
      "state": {
       "description_width": ""
      }
     },
     "de7c726db410461f970bc238c3303f8f": {
      "model_module": "@jupyter-widgets/base",
      "model_module_version": "1.2.0",
      "model_name": "LayoutModel",
      "state": {
       "width": "190px"
      }
     },
     "e3977340fdde4b74a1e7446ca2ca1dbb": {
      "model_module": "@jupyter-widgets/base",
      "model_module_version": "1.2.0",
      "model_name": "LayoutModel",
      "state": {
       "width": "95px"
      }
     },
     "ec77d5c7a4194e1cbeb9ea9e15278ab5": {
      "model_module": "@jupyter-widgets/controls",
      "model_module_version": "1.5.0",
      "model_name": "DescriptionStyleModel",
      "state": {
       "description_width": ""
      }
     },
     "f9cd6d30f3aa458da3868c689a9ddd53": {
      "model_module": "@jupyter-widgets/controls",
      "model_module_version": "1.5.0",
      "model_name": "DescriptionStyleModel",
      "state": {
       "description_width": ""
      }
     },
     "fa3edd1618dc405688b6c64e26dbbf2b": {
      "model_module": "@jupyter-widgets/base",
      "model_module_version": "1.2.0",
      "model_name": "LayoutModel",
      "state": {
       "grid_template_areas": "\n                                       \". . . . right \"\n                                        ",
       "grid_template_columns": "20% 20% 20% 20% 20%",
       "width": "100%"
      }
     },
     "fc7229e0d17b41bfb6737c79e1079181": {
      "model_module": "@jupyter-widgets/controls",
      "model_module_version": "1.5.0",
      "model_name": "DescriptionStyleModel",
      "state": {
       "description_width": ""
      }
     }
    },
    "version_major": 2,
    "version_minor": 0
   }
  }
 },
 "nbformat": 4,
 "nbformat_minor": 5
}
