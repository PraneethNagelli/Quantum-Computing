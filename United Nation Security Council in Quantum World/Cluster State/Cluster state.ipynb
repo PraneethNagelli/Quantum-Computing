{
 "cells": [
  {
   "cell_type": "code",
   "execution_count": 9,
   "id": "1c0804e1-5b1e-413e-9d50-50bfc6a2db6e",
   "metadata": {},
   "outputs": [
    {
     "name": "stderr",
     "output_type": "stream",
     "text": [
      "ibmqfactory.load_account:WARNING:2022-05-04 11:05:36,932: Credentials are already in use. The existing account in the session will be replaced.\n"
     ]
    }
   ],
   "source": [
    "import numpy as np\n",
    "\n",
    "# Importing standard Qiskit libraries\n",
    "from qiskit import QuantumCircuit, transpile, Aer, IBMQ,execute\n",
    "from qiskit.tools.jupyter import *\n",
    "from qiskit.quantum_info import Statevector\n",
    "from qiskit.visualization import *\n",
    "from ibm_quantum_widgets import *\n",
    "from qiskit.providers.aer import QasmSimulator\n",
    "\n",
    "# Loading your IBM Quantum account(s)\n",
    "provider = IBMQ.load_account()"
   ]
  },
  {
   "cell_type": "code",
   "execution_count": 16,
   "id": "8ca6e0e9-5d6b-44c1-a6c5-9f0394249204",
   "metadata": {},
   "outputs": [
    {
     "data": {
      "image/png": "[encoded data removed]",
      "text/plain": [
       "<Figure size 1049.8x325.08 with 1 Axes>"
      ]
     },
     "execution_count": 16,
     "metadata": {},
     "output_type": "execute_result"
    }
   ],
   "source": [
    "vote = [0,0,0,0]\n",
    "qc = QuantumCircuit(4,4)\n",
    "qc.h(0)\n",
    "qc.cx(0,1)\n",
    "qc.cx(0,2)\n",
    "qc.h(2)\n",
    "qc.cx(2,3)\n",
    "\n",
    "qc.barrier()\n",
    "if(vote[0]):\n",
    "    qc.x(1)\n",
    "    qc.z(2)\n",
    "    qc.x(2)\n",
    "qc.barrier(1,3)\n",
    "if(vote[1]):\n",
    "    qc.x(1)\n",
    "    qc.z(2)\n",
    "qc.barrier(1,3)\n",
    "if(vote[2]):\n",
    "    qc.z(1)\n",
    "    qc.x(1)\n",
    "    qc.z(2)\n",
    "qc.barrier(1,3)\n",
    "if(vote[3]):\n",
    "    qc.z(1)\n",
    "    qc.x(1)\n",
    "    qc.z(2)\n",
    "    qc.x(2)\n",
    "qc.barrier()\n",
    "qc.cx(2,3)\n",
    "qc.h(2)\n",
    "qc.cx(0,2)\n",
    "qc.cx(0,1)\n",
    "qc.h(0)\n",
    "qc.measure(range(4),range(4))\n",
    "qc.draw()"
   ]
  },
  {
   "cell_type": "code",
   "execution_count": 17,
   "id": "b7474624-d50b-42c2-afe2-0fc74451ba31",
   "metadata": {},
   "outputs": [
    {
     "name": "stdout",
     "output_type": "stream",
     "text": [
      "{'0000': 1024}\n"
     ]
    }
   ],
   "source": [
    "backend = Aer.get_backend('qasm_simulator')\n",
    "job_simulator = execute(qc,backend,shots=1024)\n",
    "results = job_simulator.result()\n",
    "count = results.get_counts(qc)\n",
    "print(count)"
   ]
  },
  {
   "cell_type": "code",
   "execution_count": 18,
   "id": "d0b680e1-d48c-4c07-b9f8-9fc64a60cade",
   "metadata": {},
   "outputs": [
    {
     "name": "stdout",
     "output_type": "stream",
     "text": [
      "Inconcluive\n"
     ]
    }
   ],
   "source": [
    "if '0000' in count:\n",
    "    print('Inconcluive')\n",
    "else:\n",
    "    print('Vetoed')"
   ]
  },
  {
   "cell_type": "code",
   "execution_count": null,
   "id": "1ffd0167-014c-4d52-87c3-5893ccc2fb57",
   "metadata": {},
   "outputs": [],
   "source": []
  }
 ],
 "metadata": {
  "kernelspec": {
   "display_name": "Qiskit v0.35.0 (ipykernel)",
   "language": "python",
   "name": "python3"
  },
  "language_info": {
   "codemirror_mode": {
    "name": "ipython",
    "version": 3
   },
   "file_extension": ".py",
   "mimetype": "text/x-python",
   "name": "python",
   "nbconvert_exporter": "python",
   "pygments_lexer": "ipython3",
   "version": "3.8.13"
  },
  "widgets": {
   "application/vnd.jupyter.widget-state+json": {
    "state": {
     "011598cc79f84ba1be62584f384eb4f1": {
      "model_module": "@jupyter-widgets/controls",
      "model_module_version": "1.5.0",
      "model_name": "HTMLModel",
      "state": {
       "layout": "IPY_MODEL_76c66ca7ee024871994dc25d701ce332",
       "style": "IPY_MODEL_ef321670b8694e67a2bda8ce1ccad3ea",
       "value": "<p style='font-family: IBM Plex Sans, Arial, Helvetica, sans-serif; font-size: 20px; font-weight: medium;'>Circuit Properties</p>"
      }
     },
     "02f584fb7b1e4002a14dbd494dcc8329": {
      "model_module": "@jupyter-widgets/controls",
      "model_module_version": "1.5.0",
      "model_name": "HTMLModel",
      "state": {
       "layout": "IPY_MODEL_759f58ef61ce4a448c44ecb5cca95b0c",
       "style": "IPY_MODEL_0be376fe6efd4ed2b0a0e2756882018e",
       "value": "<h5>Job ID</h5>"
      }
     },
     "0be376fe6efd4ed2b0a0e2756882018e": {
      "model_module": "@jupyter-widgets/controls",
      "model_module_version": "1.5.0",
      "model_name": "DescriptionStyleModel",
      "state": {
       "description_width": ""
      }
     },
     "17d8ac73c0624017bddb6f73e57fcdda": {
      "model_module": "@jupyter-widgets/base",
      "model_module_version": "1.2.0",
      "model_name": "LayoutModel",
      "state": {
       "margin": "0px 0px 0px 37px",
       "width": "600px"
      }
     },
     "1ec0ab0fce0943de8632fe20a2f00acc": {
      "model_module": "@jupyter-widgets/controls",
      "model_module_version": "1.5.0",
      "model_name": "ButtonStyleModel",
      "state": {}
     },
     "22526ad975544a569e90f52502aee448": {
      "model_module": "@jupyter-widgets/controls",
      "model_module_version": "1.5.0",
      "model_name": "DescriptionStyleModel",
      "state": {
       "description_width": ""
      }
     },
     "2351a25426ea48eeb5fd7c157381ac54": {
      "model_module": "@jupyter-widgets/controls",
      "model_module_version": "1.5.0",
      "model_name": "GridBoxModel",
      "state": {
       "children": [
        "IPY_MODEL_f967520df3eb4598854643f4503f8ced"
       ],
       "layout": "IPY_MODEL_8737ae56f91d418b8f427ba73f1ed36b"
      }
     },
     "2ad7c8cb7a2a4a43832400363edb50e9": {
      "model_module": "@jupyter-widgets/base",
      "model_module_version": "1.2.0",
      "model_name": "LayoutModel",
      "state": {
       "width": "70px"
      }
     },
     "4a492320114b4612be10ad14d590aa74": {
      "model_module": "@jupyter-widgets/base",
      "model_module_version": "1.2.0",
      "model_name": "LayoutModel",
      "state": {}
     },
     "502150b8f50e4e8580c858181d383ac8": {
      "model_module": "@jupyter-widgets/base",
      "model_module_version": "1.2.0",
      "model_name": "LayoutModel",
      "state": {
       "grid_area": "right",
       "padding": "0px 0px 0px 0px",
       "width": "70px"
      }
     },
     "5ecbaf249b584d34aa3f86960194172d": {
      "model_module": "@jupyter-widgets/controls",
      "model_module_version": "1.5.0",
      "model_name": "HTMLModel",
      "state": {
       "layout": "IPY_MODEL_acb9289808f444ceb785098d86973aca",
       "style": "IPY_MODEL_e230bf7fb9a54daea20ce60e6e544e37",
       "value": "<h5>Backend</h5>"
      }
     },
     "5f3e69e739e5413c9455d5b3fdfa5453": {
      "model_module": "@jupyter-widgets/controls",
      "model_module_version": "1.5.0",
      "model_name": "HBoxModel",
      "state": {
       "children": [
        "IPY_MODEL_02f584fb7b1e4002a14dbd494dcc8329",
        "IPY_MODEL_5ecbaf249b584d34aa3f86960194172d",
        "IPY_MODEL_7be310170741474bb976be411b9f11ad",
        "IPY_MODEL_f063e4430f664c159df4bc9223bad30c",
        "IPY_MODEL_af6643c8e50d459685890aecad03ac7b"
       ],
       "layout": "IPY_MODEL_17d8ac73c0624017bddb6f73e57fcdda"
      }
     },
     "759f58ef61ce4a448c44ecb5cca95b0c": {
      "model_module": "@jupyter-widgets/base",
      "model_module_version": "1.2.0",
      "model_name": "LayoutModel",
      "state": {
       "width": "190px"
      }
     },
     "76c66ca7ee024871994dc25d701ce332": {
      "model_module": "@jupyter-widgets/base",
      "model_module_version": "1.2.0",
      "model_name": "LayoutModel",
      "state": {
       "margin": "0px 0px 10px 0px"
      }
     },
     "7be310170741474bb976be411b9f11ad": {
      "model_module": "@jupyter-widgets/controls",
      "model_module_version": "1.5.0",
      "model_name": "HTMLModel",
      "state": {
       "layout": "IPY_MODEL_f080d164fd0e488f854fd22065bf63aa",
       "style": "IPY_MODEL_d85b004617684ca6a8300fd0b4b8c2ee",
       "value": "<h5>Status</h5>"
      }
     },
     "8737ae56f91d418b8f427ba73f1ed36b": {
      "model_module": "@jupyter-widgets/base",
      "model_module_version": "1.2.0",
      "model_name": "LayoutModel",
      "state": {
       "grid_template_areas": "\n                                       \". . . . right \"\n                                        ",
       "grid_template_columns": "20% 20% 20% 20% 20%",
       "width": "100%"
      }
     },
     "acb9289808f444ceb785098d86973aca": {
      "model_module": "@jupyter-widgets/base",
      "model_module_version": "1.2.0",
      "model_name": "LayoutModel",
      "state": {
       "width": "145px"
      }
     },
     "af6643c8e50d459685890aecad03ac7b": {
      "model_module": "@jupyter-widgets/controls",
      "model_module_version": "1.5.0",
      "model_name": "HTMLModel",
      "state": {
       "layout": "IPY_MODEL_4a492320114b4612be10ad14d590aa74",
       "style": "IPY_MODEL_22526ad975544a569e90f52502aee448",
       "value": "<h5>Message</h5>"
      }
     },
     "ce403690b5bd45259e354f38b4f87868": {
      "model_module": "@jupyter-widgets/controls",
      "model_module_version": "1.5.0",
      "model_name": "DescriptionStyleModel",
      "state": {
       "description_width": ""
      }
     },
     "d85b004617684ca6a8300fd0b4b8c2ee": {
      "model_module": "@jupyter-widgets/controls",
      "model_module_version": "1.5.0",
      "model_name": "DescriptionStyleModel",
      "state": {
       "description_width": ""
      }
     },
     "e230bf7fb9a54daea20ce60e6e544e37": {
      "model_module": "@jupyter-widgets/controls",
      "model_module_version": "1.5.0",
      "model_name": "DescriptionStyleModel",
      "state": {
       "description_width": ""
      }
     },
     "ef321670b8694e67a2bda8ce1ccad3ea": {
      "model_module": "@jupyter-widgets/controls",
      "model_module_version": "1.5.0",
      "model_name": "DescriptionStyleModel",
      "state": {
       "description_width": ""
      }
     },
     "f063e4430f664c159df4bc9223bad30c": {
      "model_module": "@jupyter-widgets/controls",
      "model_module_version": "1.5.0",
      "model_name": "HTMLModel",
      "state": {
       "layout": "IPY_MODEL_2ad7c8cb7a2a4a43832400363edb50e9",
       "style": "IPY_MODEL_ce403690b5bd45259e354f38b4f87868",
       "value": "<h5>Queue</h5>"
      }
     },
     "f080d164fd0e488f854fd22065bf63aa": {
      "model_module": "@jupyter-widgets/base",
      "model_module_version": "1.2.0",
      "model_name": "LayoutModel",
      "state": {
       "width": "95px"
      }
     },
     "f967520df3eb4598854643f4503f8ced": {
      "model_module": "@jupyter-widgets/controls",
      "model_module_version": "1.5.0",
      "model_name": "ButtonModel",
      "state": {
       "button_style": "primary",
       "description": "Clear",
       "layout": "IPY_MODEL_502150b8f50e4e8580c858181d383ac8",
       "style": "IPY_MODEL_1ec0ab0fce0943de8632fe20a2f00acc"
      }
     }
    },
    "version_major": 2,
    "version_minor": 0
   }
  }
 },
 "nbformat": 4,
 "nbformat_minor": 5
}
