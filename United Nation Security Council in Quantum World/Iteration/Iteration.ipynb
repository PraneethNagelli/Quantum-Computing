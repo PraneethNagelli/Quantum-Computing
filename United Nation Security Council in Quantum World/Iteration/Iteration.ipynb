{
 "cells": [
  {
   "cell_type": "code",
   "execution_count": 8,
   "id": "4bd882ab-6dd8-4fc1-b0e5-d92500fcc96e",
   "metadata": {},
   "outputs": [
    {
     "name": "stderr",
     "output_type": "stream",
     "text": [
      "ibmqfactory.load_account:WARNING:2022-05-04 10:58:23,578: Credentials are already in use. The existing account in the session will be replaced.\n"
     ]
    }
   ],
   "source": [
    "import numpy as np\n",
    "\n",
    "# Importing standard Qiskit libraries\n",
    "from qiskit import QuantumCircuit, transpile, Aer, IBMQ,execute\n",
    "from qiskit.tools.jupyter import *\n",
    "from qiskit.visualization import *\n",
    "from ibm_quantum_widgets import *\n",
    "from qiskit.providers.aer import QasmSimulator\n",
    "\n",
    "# Loading your IBM Quantum account(s)\n",
    "provider = IBMQ.load_account()"
   ]
  },
  {
   "cell_type": "code",
   "execution_count": 14,
   "id": "31982853-89a9-4e0a-b346-1351e1601219",
   "metadata": {},
   "outputs": [
    {
     "data": {
      "image/png": "[encoded data removed]",
      "text/plain": [
       "<Figure size 568.052x204.68 with 1 Axes>"
      ]
     },
     "execution_count": 14,
     "metadata": {},
     "output_type": "execute_result"
    }
   ],
   "source": [
    "vote = [0,1,0,0,0]\n",
    "n = 5\n",
    "T = int(1 + np.ceil(np.log(n)))\n",
    "t = 0\n",
    "Res = 0\n",
    "qc = QuantumCircuit(2,2)\n",
    "while(t<T and not Res):\n",
    "    qc.h(0)\n",
    "    qc.cx(0,1)\n",
    "    qc.barrier()\n",
    "    \n",
    "    for i in vote:\n",
    "        if i:\n",
    "            qc.rz((np.pi)/(2**t),1)     \n",
    "    qc.barrier()\n",
    "    qc.cx(0,1)\n",
    "    qc.h(0)\n",
    "    qc.measure(range(2),range(2))\n",
    "    backend = Aer.get_backend('qasm_simulator')\n",
    "    job_simulator = execute(qc,backend,shots=1024)\n",
    "    results = job_simulator.result()\n",
    "    count = results.get_counts(qc)\n",
    "    # print(t,count)\n",
    "    t+=1\n",
    "    if len(count)==1 and '01' in count:\n",
    "        Res = 1\n",
    "qc.draw()"
   ]
  },
  {
   "cell_type": "code",
   "execution_count": 13,
   "id": "62f2426b-3c25-4c10-aec9-544e764876cc",
   "metadata": {},
   "outputs": [
    {
     "name": "stdout",
     "output_type": "stream",
     "text": [
      "2\n",
      "1\n"
     ]
    }
   ],
   "source": [
    "print(t)\n",
    "print(Res)"
   ]
  },
  {
   "cell_type": "code",
   "execution_count": 11,
   "id": "bb1a2c4d-bf46-48cd-998f-97e7c4116d60",
   "metadata": {},
   "outputs": [
    {
     "name": "stdout",
     "output_type": "stream",
     "text": [
      "Vetoed\n"
     ]
    }
   ],
   "source": [
    "if Res:\n",
    "    print('Vetoed')\n",
    "else:\n",
    "    print('Passed')"
   ]
  },
  {
   "cell_type": "code",
   "execution_count": null,
   "id": "700a2456-a668-4d85-aca8-77e2d9197f9e",
   "metadata": {},
   "outputs": [],
   "source": []
  }
 ],
 "metadata": {
  "kernelspec": {
   "display_name": "Qiskit v0.35.0 (ipykernel)",
   "language": "python",
   "name": "python3"
  },
  "language_info": {
   "codemirror_mode": {
    "name": "ipython",
    "version": 3
   },
   "file_extension": ".py",
   "mimetype": "text/x-python",
   "name": "python",
   "nbconvert_exporter": "python",
   "pygments_lexer": "ipython3",
   "version": "3.8.13"
  },
  "widgets": {
   "application/vnd.jupyter.widget-state+json": {
    "state": {
     "041e684ff2304a309c58912b7e740b8c": {
      "model_module": "@jupyter-widgets/base",
      "model_module_version": "1.2.0",
      "model_name": "LayoutModel",
      "state": {
       "grid_template_areas": "\n                                       \". . . . right \"\n                                        ",
       "grid_template_columns": "20% 20% 20% 20% 20%",
       "width": "100%"
      }
     },
     "05186870bc784627a3816e2eebd0b4a3": {
      "model_module": "@jupyter-widgets/base",
      "model_module_version": "1.2.0",
      "model_name": "LayoutModel",
      "state": {
       "width": "95px"
      }
     },
     "056b340587944cfea807eca9b980dbcc": {
      "model_module": "@jupyter-widgets/controls",
      "model_module_version": "1.5.0",
      "model_name": "DescriptionStyleModel",
      "state": {
       "description_width": ""
      }
     },
     "14da6ceb4f6d41389b31e70c6706685a": {
      "model_module": "@jupyter-widgets/base",
      "model_module_version": "1.2.0",
      "model_name": "LayoutModel",
      "state": {
       "width": "145px"
      }
     },
     "1a5198fd5c7842189d174b5c365addef": {
      "model_module": "@jupyter-widgets/base",
      "model_module_version": "1.2.0",
      "model_name": "LayoutModel",
      "state": {
       "grid_area": "right",
       "padding": "0px 0px 0px 0px",
       "width": "70px"
      }
     },
     "1d9a718a29054c43bd5dc39cae4f4e29": {
      "model_module": "@jupyter-widgets/controls",
      "model_module_version": "1.5.0",
      "model_name": "GridBoxModel",
      "state": {
       "children": [
        "IPY_MODEL_eb66a520991347c5a819fb3f9569c96d"
       ],
       "layout": "IPY_MODEL_041e684ff2304a309c58912b7e740b8c"
      }
     },
     "1f72c31ff2e94b03a297bdded5222188": {
      "model_module": "@jupyter-widgets/base",
      "model_module_version": "1.2.0",
      "model_name": "LayoutModel",
      "state": {
       "margin": "0px 0px 10px 0px"
      }
     },
     "20be9f2d052d43e18cce0250363e6639": {
      "model_module": "@jupyter-widgets/controls",
      "model_module_version": "1.5.0",
      "model_name": "DescriptionStyleModel",
      "state": {
       "description_width": ""
      }
     },
     "23098c098bba4ae0a7c664d67eca1800": {
      "model_module": "@jupyter-widgets/controls",
      "model_module_version": "1.5.0",
      "model_name": "HTMLModel",
      "state": {
       "layout": "IPY_MODEL_5ca1a8a3b6de414d85b90a63ba0ab51d",
       "style": "IPY_MODEL_8c2f0fdb14564200beb192051a20e464",
       "value": "<h5>Job ID</h5>"
      }
     },
     "31feb1109c17481baf18bc0535114dba": {
      "model_module": "@jupyter-widgets/base",
      "model_module_version": "1.2.0",
      "model_name": "LayoutModel",
      "state": {}
     },
     "3b6c0aeca5b64b9eadf869a7d5cdeb2c": {
      "model_module": "@jupyter-widgets/controls",
      "model_module_version": "1.5.0",
      "model_name": "HTMLModel",
      "state": {
       "layout": "IPY_MODEL_645e1e7bfc034c59b21a1dd5535999b7",
       "style": "IPY_MODEL_20be9f2d052d43e18cce0250363e6639",
       "value": "<h5>Queue</h5>"
      }
     },
     "4a8b87957f2f42a4b7723b03d4e6afca": {
      "model_module": "@jupyter-widgets/controls",
      "model_module_version": "1.5.0",
      "model_name": "HTMLModel",
      "state": {
       "layout": "IPY_MODEL_31feb1109c17481baf18bc0535114dba",
       "style": "IPY_MODEL_95f4cb3f0ff148dfbd4cda0be1b3dac5",
       "value": "<h5>Message</h5>"
      }
     },
     "57b5f4872ac0484f954e4b337272f0bd": {
      "model_module": "@jupyter-widgets/controls",
      "model_module_version": "1.5.0",
      "model_name": "DescriptionStyleModel",
      "state": {
       "description_width": ""
      }
     },
     "58cc0c572c8c440b9ddd49a0ede77ab0": {
      "model_module": "@jupyter-widgets/controls",
      "model_module_version": "1.5.0",
      "model_name": "HTMLModel",
      "state": {
       "layout": "IPY_MODEL_1f72c31ff2e94b03a297bdded5222188",
       "style": "IPY_MODEL_57b5f4872ac0484f954e4b337272f0bd",
       "value": "<p style='font-family: IBM Plex Sans, Arial, Helvetica, sans-serif; font-size: 20px; font-weight: medium;'>Circuit Properties</p>"
      }
     },
     "5a4a02b048d840d2a7d509c6a45ac9cc": {
      "model_module": "@jupyter-widgets/controls",
      "model_module_version": "1.5.0",
      "model_name": "HBoxModel",
      "state": {
       "children": [
        "IPY_MODEL_23098c098bba4ae0a7c664d67eca1800",
        "IPY_MODEL_a9b25a6204e44b1a98253e0f66a93bb3",
        "IPY_MODEL_d827bd61e30e4083ba8c49780097e888",
        "IPY_MODEL_3b6c0aeca5b64b9eadf869a7d5cdeb2c",
        "IPY_MODEL_4a8b87957f2f42a4b7723b03d4e6afca"
       ],
       "layout": "IPY_MODEL_d3b32cb4cf3240aa9f2d43bc9d984d61"
      }
     },
     "5ca1a8a3b6de414d85b90a63ba0ab51d": {
      "model_module": "@jupyter-widgets/base",
      "model_module_version": "1.2.0",
      "model_name": "LayoutModel",
      "state": {
       "width": "190px"
      }
     },
     "645e1e7bfc034c59b21a1dd5535999b7": {
      "model_module": "@jupyter-widgets/base",
      "model_module_version": "1.2.0",
      "model_name": "LayoutModel",
      "state": {
       "width": "70px"
      }
     },
     "8c2f0fdb14564200beb192051a20e464": {
      "model_module": "@jupyter-widgets/controls",
      "model_module_version": "1.5.0",
      "model_name": "DescriptionStyleModel",
      "state": {
       "description_width": ""
      }
     },
     "95f4cb3f0ff148dfbd4cda0be1b3dac5": {
      "model_module": "@jupyter-widgets/controls",
      "model_module_version": "1.5.0",
      "model_name": "DescriptionStyleModel",
      "state": {
       "description_width": ""
      }
     },
     "9ed05355944140e9bd42d3c3a41ce754": {
      "model_module": "@jupyter-widgets/controls",
      "model_module_version": "1.5.0",
      "model_name": "ButtonStyleModel",
      "state": {}
     },
     "a9b25a6204e44b1a98253e0f66a93bb3": {
      "model_module": "@jupyter-widgets/controls",
      "model_module_version": "1.5.0",
      "model_name": "HTMLModel",
      "state": {
       "layout": "IPY_MODEL_14da6ceb4f6d41389b31e70c6706685a",
       "style": "IPY_MODEL_c864b5ce99e64972b2e64b360ebd1a78",
       "value": "<h5>Backend</h5>"
      }
     },
     "c864b5ce99e64972b2e64b360ebd1a78": {
      "model_module": "@jupyter-widgets/controls",
      "model_module_version": "1.5.0",
      "model_name": "DescriptionStyleModel",
      "state": {
       "description_width": ""
      }
     },
     "d3b32cb4cf3240aa9f2d43bc9d984d61": {
      "model_module": "@jupyter-widgets/base",
      "model_module_version": "1.2.0",
      "model_name": "LayoutModel",
      "state": {
       "margin": "0px 0px 0px 37px",
       "width": "600px"
      }
     },
     "d827bd61e30e4083ba8c49780097e888": {
      "model_module": "@jupyter-widgets/controls",
      "model_module_version": "1.5.0",
      "model_name": "HTMLModel",
      "state": {
       "layout": "IPY_MODEL_05186870bc784627a3816e2eebd0b4a3",
       "style": "IPY_MODEL_056b340587944cfea807eca9b980dbcc",
       "value": "<h5>Status</h5>"
      }
     },
     "eb66a520991347c5a819fb3f9569c96d": {
      "model_module": "@jupyter-widgets/controls",
      "model_module_version": "1.5.0",
      "model_name": "ButtonModel",
      "state": {
       "button_style": "primary",
       "description": "Clear",
       "layout": "IPY_MODEL_1a5198fd5c7842189d174b5c365addef",
       "style": "IPY_MODEL_9ed05355944140e9bd42d3c3a41ce754"
      }
     }
    },
    "version_major": 2,
    "version_minor": 0
   }
  }
 },
 "nbformat": 4,
 "nbformat_minor": 5
}
